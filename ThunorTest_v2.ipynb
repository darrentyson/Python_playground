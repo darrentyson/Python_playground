{
  "nbformat": 4,
  "nbformat_minor": 0,
  "metadata": {
    "colab": {
      "private_outputs": true,
      "provenance": [],
      "authorship_tag": "ABX9TyPZI6OKeOX8wtowBiee+PyP",
      "include_colab_link": true
    },
    "kernelspec": {
      "name": "python3",
      "display_name": "Python 3"
    },
    "language_info": {
      "name": "python"
    }
  },
  "cells": [
    {
      "cell_type": "markdown",
      "metadata": {
        "id": "view-in-github",
        "colab_type": "text"
      },
      "source": [
        "<a href=\"https://colab.research.google.com/github/darrentyson/Python_playground/blob/main/ThunorTest_v2.ipynb\" target=\"_parent\"><img src=\"https://colab.research.google.com/assets/colab-badge.svg\" alt=\"Open In Colab\"/></a>"
      ]
    },
    {
      "cell_type": "code",
      "source": [
        "!python --version"
      ],
      "metadata": {
        "id": "Bnjr5oMjla1q"
      },
      "execution_count": null,
      "outputs": []
    },
    {
      "cell_type": "code",
      "source": [
        "!pip install thunor"
      ],
      "metadata": {
        "id": "YK3w2uizldJS"
      },
      "execution_count": null,
      "outputs": []
    },
    {
      "cell_type": "code",
      "source": [
        "import os, sys\n",
        "import thunor"
      ],
      "metadata": {
        "id": "ugwPWqw2lfjK"
      },
      "execution_count": null,
      "outputs": []
    },
    {
      "cell_type": "markdown",
      "source": [
        "## Load a file\n",
        "First, specify a file to load. Here, we use an example dataset from the thunor package itself."
      ],
      "metadata": {
        "id": "uxr5PA9SmssI"
      }
    },
    {
      "cell_type": "code",
      "source": [
        "!wget https://github.com/alubbock/thunor/raw/master/thunor/testdata/hts007.h5\n",
        "hts007_file = 'hts007.h5'"
      ],
      "metadata": {
        "id": "yp5nyqNWmebV"
      },
      "execution_count": null,
      "outputs": []
    },
    {
      "cell_type": "markdown",
      "source": [
        "Load the file using `read_hdf` (for HDF5 files), `read_vanderbilt_hts` (for CSV files), or another appropriate reader."
      ],
      "metadata": {
        "id": "9BiCWDwTm3DD"
      }
    },
    {
      "cell_type": "code",
      "source": [
        "from thunor.io import read_hdf\n",
        "hts007 = read_hdf(hts007_file)"
      ],
      "metadata": {
        "id": "Hv7IaBDtmhvg"
      },
      "execution_count": null,
      "outputs": []
    },
    {
      "cell_type": "markdown",
      "source": [
        "Show a summary of the data."
      ],
      "metadata": {
        "id": "cnw7dPulne3-"
      }
    },
    {
      "cell_type": "code",
      "source": [
        "hts007"
      ],
      "metadata": {
        "id": "hjUuBv_rm-sR"
      },
      "execution_count": null,
      "outputs": []
    },
    {
      "cell_type": "markdown",
      "source": [
        "We'll just use a subset of the drugs, to make the plots manageable."
      ],
      "metadata": {
        "id": "Lw35tXo0p9GH"
      }
    },
    {
      "cell_type": "code",
      "source": [
        "hts007r = hts007.filter(drugs=['cediranib', 'everolimus', 'paclitaxel'])\n",
        "hts007r.drugs"
      ],
      "metadata": {
        "id": "DbcE_Y1gnpvV"
      },
      "execution_count": null,
      "outputs": []
    },
    {
      "cell_type": "code",
      "source": [
        "hts007r.cell_lines"
      ],
      "metadata": {
        "id": "NQ_Af6qYqFCz"
      },
      "execution_count": null,
      "outputs": []
    },
    {
      "cell_type": "markdown",
      "source": [
        "## Calculate DIP rates and parameters\n",
        "\n",
        "These two operations can be done in two lines of code (plus imports). Note that you may see `RuntimeWarning` messages, which indicates that some dose response curves were not able to be fitted. This can happen if the cells do not stop proliferating in response to drug, the response is not closely approximated by a log-logistic curve, or the data are very noisy."
      ],
      "metadata": {
        "id": "TTiGlOUAqU9F"
      }
    },
    {
      "cell_type": "code",
      "source": [
        "from thunor.dip import dip_rates\n",
        "from thunor.curve_fit import fit_params\n",
        "\n",
        "ctrl_dip_data, expt_dip_data = dip_rates(hts007r)\n",
        "fp = fit_params(ctrl_dip_data, expt_dip_data)"
      ],
      "metadata": {
        "id": "3ALWiGzzqIRr"
      },
      "execution_count": null,
      "outputs": []
    },
    {
      "cell_type": "markdown",
      "source": [
        "## Setting up plots\n",
        "\n",
        "Each of the `plot_X` functions returns a plotly `Figure` object which can be visualised in a number of ways. Here, we use the offline `iplot` function, which generates a plot for use with Jupyter notebook. We could also generate plots using the `plot` function in standalone HTML files. See the [plotly documentation](https://plot.ly/python/offline/) for more information on the latter approach. "
      ],
      "metadata": {
        "id": "LYr56iECqZLO"
      }
    },
    {
      "cell_type": "code",
      "source": [
        "from thunor.plots import plot_drc, plot_drc_params, plot_time_course, plot_ctrl_dip_by_plate, plot_plate_map"
      ],
      "metadata": {
        "id": "JMbWT9Xoqa6g"
      },
      "execution_count": null,
      "outputs": []
    },
    {
      "cell_type": "markdown",
      "source": [
        "## Plot Types\n",
        "\n",
        "### Plot DIP rate curves"
      ],
      "metadata": {
        "id": "V3GoZ4RUqcLu"
      }
    },
    {
      "cell_type": "code",
      "source": [
        "plot_drc(fp)"
      ],
      "metadata": {
        "id": "sxIB4pRZqM2q"
      },
      "execution_count": null,
      "outputs": []
    },
    {
      "cell_type": "code",
      "source": [],
      "metadata": {
        "id": "Qj4EyjjTqq25"
      },
      "execution_count": null,
      "outputs": []
    }
  ]
}